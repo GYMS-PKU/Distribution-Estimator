{
 "cells": [
  {
   "cell_type": "code",
   "execution_count": 12,
   "metadata": {},
   "outputs": [],
   "source": [
    "import numpy as np\n",
    "import pandas as pd\n",
    "import pypianoroll as pr\n",
    "import matplotlib.pyplot as plt\n",
    "import importlib\n",
    "import json\n",
    "import xml.etree.ElementTree as ET\n",
    "import os\n",
    "import sys\n",
    "import pickle\n",
    "\n",
    "sys.path.append('..')\n",
    "import estimator \n",
    "importlib.reload(estimator)\n",
    "from estimator import estimator as ES\n",
    "importlib.reload(ES)\n",
    "from estimator import gan as gan\n",
    "importlib.reload(gan)\n",
    "es = ES.Estimator(input_dim=10, output_dim=1, device='cuda')"
   ]
  },
  {
   "cell_type": "markdown",
   "metadata": {},
   "source": [
    "#### 混合高斯测试"
   ]
  },
  {
   "cell_type": "code",
   "execution_count": 2,
   "metadata": {},
   "outputs": [
    {
     "data": {
      "image/png": "[encoded data removed]",
      "text/plain": [
       "<Figure size 432x288 with 1 Axes>"
      ]
     },
     "metadata": {
      "needs_background": "light"
     },
     "output_type": "display_data"
    }
   ],
   "source": [
    "x_true = np.random.randn(100000)\n",
    "tmp = x_true>0\n",
    "x_true[tmp] = 5+np.random.randn(np.sum(tmp))\n",
    "x_true[~tmp] = -3+2*np.random.randn(np.sum(~tmp))\n",
    "plt.hist(x_true,bins=100)\n",
    "plt.show()"
   ]
  },
  {
   "cell_type": "code",
   "execution_count": 13,
   "metadata": {
    "scrolled": true
   },
   "outputs": [
    {
     "name": "stdout",
     "output_type": "stream",
     "text": [
      "epoch 100 g_loss: 0.4001, d_loss: 0.7566\n",
      "epoch 200 g_loss: 0.4626, d_loss: 0.7163\n",
      "epoch 300 g_loss: 0.5001, d_loss: 0.6832\n",
      "epoch 400 g_loss: 0.5413, d_loss: 0.6457\n",
      "epoch 500 g_loss: 0.5831, d_loss: 0.6122\n",
      "epoch 600 g_loss: 0.6710, d_loss: 0.4941\n",
      "epoch 700 g_loss: 0.8614, d_loss: 0.3453\n",
      "epoch 800 g_loss: 0.9802, d_loss: 0.2845\n",
      "epoch 900 g_loss: 1.0679, d_loss: 0.2486\n",
      "epoch 1000 g_loss: 1.1504, d_loss: 0.2226\n"
     ]
    }
   ],
   "source": [
    "es.fit(x_true.reshape(-1,1))"
   ]
  },
  {
   "cell_type": "code",
   "execution_count": 14,
   "metadata": {},
   "outputs": [
    {
     "data": {
      "image/png": "[encoded data removed]",
      "text/plain": [
       "<Figure size 432x288 with 1 Axes>"
      ]
     },
     "metadata": {
      "needs_background": "light"
     },
     "output_type": "display_data"
    }
   ],
   "source": [
    "fate = es.generate(100000)\n",
    "plt.hist(fate,bins=100)\n",
    "plt.show()"
   ]
  },
  {
   "cell_type": "code",
   "execution_count": 40,
   "metadata": {},
   "outputs": [
    {
     "data": {
      "text/plain": [
       "tensor([0, 1])"
      ]
     },
     "execution_count": 40,
     "metadata": {},
     "output_type": "execute_result"
    }
   ],
   "source": [
    "target"
   ]
  },
  {
   "cell_type": "code",
   "execution_count": null,
   "metadata": {},
   "outputs": [],
   "source": []
  }
 ],
 "metadata": {
  "kernelspec": {
   "display_name": "Python 3",
   "language": "python",
   "name": "python3"
  },
  "language_info": {
   "codemirror_mode": {
    "name": "ipython",
    "version": 3
   },
   "file_extension": ".py",
   "mimetype": "text/x-python",
   "name": "python",
   "nbconvert_exporter": "python",
   "pygments_lexer": "ipython3",
   "version": "3.8.5"
  }
 },
 "nbformat": 4,
 "nbformat_minor": 4
}
